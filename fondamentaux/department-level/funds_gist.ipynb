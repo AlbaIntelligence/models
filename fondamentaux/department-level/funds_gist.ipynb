{
 "cells": [
  {
   "cell_type": "code",
   "execution_count": 1,
   "metadata": {},
   "outputs": [
    {
     "name": "stdout",
     "output_type": "stream",
     "text": [
      "Running on PyMC3 v3.6 and Pandas v0.24.1\n"
     ]
    }
   ],
   "source": [
    "import matplotlib.pyplot as plt\n",
    "import numpy as np\n",
    "import pandas as pd\n",
    "import pymc3 as pm\n",
    "import seaborn as sns\n",
    "import theano.tensor as tt\n",
    "import warnings\n",
    "\n",
    "RANDOM_SEED = 20090425\n",
    "\n",
    "%matplotlib inline\n",
    "sns.set()\n",
    "warnings.simplefilter(action='ignore', category=FutureWarning)\n",
    "print(f'Running on PyMC3 v{pm.__version__} and Pandas v{pd.__version__}')"
   ]
  },
  {
   "cell_type": "markdown",
   "metadata": {},
   "source": [
    "#### Import dependent variable (election results) and standardized regressors (there are 7 of them)"
   ]
  },
  {
   "cell_type": "code",
   "execution_count": 2,
   "metadata": {},
   "outputs": [
    {
     "data": {
      "text/html": [
       "<div>\n",
       "<style scoped>\n",
       "    .dataframe tbody tr th:only-of-type {\n",
       "        vertical-align: middle;\n",
       "    }\n",
       "\n",
       "    .dataframe tbody tr th {\n",
       "        vertical-align: top;\n",
       "    }\n",
       "\n",
       "    .dataframe thead th {\n",
       "        text-align: right;\n",
       "    }\n",
       "</style>\n",
       "<table border=\"1\" class=\"dataframe\">\n",
       "  <thead>\n",
       "    <tr style=\"text-align: right;\">\n",
       "      <th></th>\n",
       "      <th></th>\n",
       "      <th>climat_affaires</th>\n",
       "      <th>conf_menages</th>\n",
       "      <th>prix_gazole</th>\n",
       "      <th>inflation</th>\n",
       "      <th>pib</th>\n",
       "      <th>net_app</th>\n",
       "      <th>chomage</th>\n",
       "    </tr>\n",
       "    <tr>\n",
       "      <th>departement</th>\n",
       "      <th>date</th>\n",
       "      <th></th>\n",
       "      <th></th>\n",
       "      <th></th>\n",
       "      <th></th>\n",
       "      <th></th>\n",
       "      <th></th>\n",
       "      <th></th>\n",
       "    </tr>\n",
       "  </thead>\n",
       "  <tbody>\n",
       "    <tr>\n",
       "      <th rowspan=\"5\" valign=\"top\">ain</th>\n",
       "      <th>dep1992</th>\n",
       "      <td>-0.408263</td>\n",
       "      <td>0.315657</td>\n",
       "      <td>-1.460156</td>\n",
       "      <td>2.114784</td>\n",
       "      <td>0.323604</td>\n",
       "      <td>-0.286913</td>\n",
       "      <td>-1.852963</td>\n",
       "    </tr>\n",
       "    <tr>\n",
       "      <th>dep1994</th>\n",
       "      <td>-0.601886</td>\n",
       "      <td>0.116938</td>\n",
       "      <td>-1.249131</td>\n",
       "      <td>0.733849</td>\n",
       "      <td>-0.363523</td>\n",
       "      <td>0.093029</td>\n",
       "      <td>-0.676859</td>\n",
       "    </tr>\n",
       "    <tr>\n",
       "      <th>dep1998</th>\n",
       "      <td>0.976141</td>\n",
       "      <td>0.514375</td>\n",
       "      <td>-1.002935</td>\n",
       "      <td>-0.396006</td>\n",
       "      <td>1.455350</td>\n",
       "      <td>0.743212</td>\n",
       "      <td>-1.068894</td>\n",
       "    </tr>\n",
       "    <tr>\n",
       "      <th>dep2001</th>\n",
       "      <td>1.237532</td>\n",
       "      <td>2.402197</td>\n",
       "      <td>-0.545714</td>\n",
       "      <td>0.231691</td>\n",
       "      <td>0.962999</td>\n",
       "      <td>1.172080</td>\n",
       "      <td>-2.392010</td>\n",
       "    </tr>\n",
       "    <tr>\n",
       "      <th>dep2004</th>\n",
       "      <td>0.492084</td>\n",
       "      <td>-0.081780</td>\n",
       "      <td>-0.510543</td>\n",
       "      <td>0.733849</td>\n",
       "      <td>0.856889</td>\n",
       "      <td>0.459211</td>\n",
       "      <td>-1.607941</td>\n",
       "    </tr>\n",
       "  </tbody>\n",
       "</table>\n",
       "</div>"
      ],
      "text/plain": [
       "                     climat_affaires  conf_menages  prix_gazole  inflation  \\\n",
       "departement date                                                             \n",
       "ain         dep1992        -0.408263      0.315657    -1.460156   2.114784   \n",
       "            dep1994        -0.601886      0.116938    -1.249131   0.733849   \n",
       "            dep1998         0.976141      0.514375    -1.002935  -0.396006   \n",
       "            dep2001         1.237532      2.402197    -0.545714   0.231691   \n",
       "            dep2004         0.492084     -0.081780    -0.510543   0.733849   \n",
       "\n",
       "                          pib   net_app   chomage  \n",
       "departement date                                   \n",
       "ain         dep1992  0.323604 -0.286913 -1.852963  \n",
       "            dep1994 -0.363523  0.093029 -0.676859  \n",
       "            dep1998  1.455350  0.743212 -1.068894  \n",
       "            dep2001  0.962999  1.172080 -2.392010  \n",
       "            dep2004  0.856889  0.459211 -1.607941  "
      ]
     },
     "execution_count": 2,
     "metadata": {},
     "output_type": "execute_result"
    }
   ],
   "source": [
    "X_full = pd.read_json('X_full.json')\n",
    "X_full = X_full.set_index(['departement', 'date']).sort_index()\n",
    "X_full.head()"
   ]
  },
  {
   "cell_type": "code",
   "execution_count": 3,
   "metadata": {},
   "outputs": [
    {
     "data": {
      "text/plain": [
       "(1889, 7)"
      ]
     },
     "execution_count": 3,
     "metadata": {},
     "output_type": "execute_result"
    }
   ],
   "source": [
    "dptmts_idx, dptmts_names = X_full.index.get_level_values(0).factorize(sort=True)\n",
    "n_dptmts = len(dptmts_names)\n",
    "date_idx, date_names = X_full.index.get_level_values(1).factorize(sort=True)\n",
    "_, n_regressors = X_full.shape\n",
    "X_full.shape"
   ]
  },
  {
   "cell_type": "code",
   "execution_count": 4,
   "metadata": {},
   "outputs": [
    {
     "data": {
      "text/html": [
       "<div>\n",
       "<style scoped>\n",
       "    .dataframe tbody tr th:only-of-type {\n",
       "        vertical-align: middle;\n",
       "    }\n",
       "\n",
       "    .dataframe tbody tr th {\n",
       "        vertical-align: top;\n",
       "    }\n",
       "\n",
       "    .dataframe thead th {\n",
       "        text-align: right;\n",
       "    }\n",
       "</style>\n",
       "<table border=\"1\" class=\"dataframe\">\n",
       "  <thead>\n",
       "    <tr style=\"text-align: right;\">\n",
       "      <th></th>\n",
       "      <th></th>\n",
       "      <th>farleft</th>\n",
       "      <th>left</th>\n",
       "      <th>green</th>\n",
       "      <th>center</th>\n",
       "      <th>right</th>\n",
       "      <th>farright</th>\n",
       "      <th>other</th>\n",
       "    </tr>\n",
       "    <tr>\n",
       "      <th>departement</th>\n",
       "      <th>date</th>\n",
       "      <th></th>\n",
       "      <th></th>\n",
       "      <th></th>\n",
       "      <th></th>\n",
       "      <th></th>\n",
       "      <th></th>\n",
       "      <th></th>\n",
       "    </tr>\n",
       "  </thead>\n",
       "  <tbody>\n",
       "    <tr>\n",
       "      <th rowspan=\"5\" valign=\"top\">ain</th>\n",
       "      <th>dep1992</th>\n",
       "      <td>0.0482</td>\n",
       "      <td>0.1389</td>\n",
       "      <td>0.0741</td>\n",
       "      <td>0.2488</td>\n",
       "      <td>0.2064</td>\n",
       "      <td>0.1259</td>\n",
       "      <td>0.1577</td>\n",
       "    </tr>\n",
       "    <tr>\n",
       "      <th>dep1994</th>\n",
       "      <td>0.0698</td>\n",
       "      <td>0.1216</td>\n",
       "      <td>0.0548</td>\n",
       "      <td>0.2617</td>\n",
       "      <td>0.1476</td>\n",
       "      <td>0.1149</td>\n",
       "      <td>0.2296</td>\n",
       "    </tr>\n",
       "    <tr>\n",
       "      <th>dep1998</th>\n",
       "      <td>0.0732</td>\n",
       "      <td>0.1161</td>\n",
       "      <td>0.0267</td>\n",
       "      <td>0.2524</td>\n",
       "      <td>0.1473</td>\n",
       "      <td>0.1508</td>\n",
       "      <td>0.2335</td>\n",
       "    </tr>\n",
       "    <tr>\n",
       "      <th>dep2001</th>\n",
       "      <td>0.0717</td>\n",
       "      <td>0.1221</td>\n",
       "      <td>0.0531</td>\n",
       "      <td>0.0240</td>\n",
       "      <td>0.1211</td>\n",
       "      <td>0.0817</td>\n",
       "      <td>0.5263</td>\n",
       "    </tr>\n",
       "    <tr>\n",
       "      <th>dep2004</th>\n",
       "      <td>0.0461</td>\n",
       "      <td>0.1084</td>\n",
       "      <td>0.0315</td>\n",
       "      <td>0.0171</td>\n",
       "      <td>0.2411</td>\n",
       "      <td>0.1484</td>\n",
       "      <td>0.4074</td>\n",
       "    </tr>\n",
       "  </tbody>\n",
       "</table>\n",
       "</div>"
      ],
      "text/plain": [
       "                     farleft    left   green  center   right  farright   other\n",
       "departement date                                                              \n",
       "ain         dep1992   0.0482  0.1389  0.0741  0.2488  0.2064    0.1259  0.1577\n",
       "            dep1994   0.0698  0.1216  0.0548  0.2617  0.1476    0.1149  0.2296\n",
       "            dep1998   0.0732  0.1161  0.0267  0.2524  0.1473    0.1508  0.2335\n",
       "            dep2001   0.0717  0.1221  0.0531  0.0240  0.1211    0.0817  0.5263\n",
       "            dep2004   0.0461  0.1084  0.0315  0.0171  0.2411    0.1484  0.4074"
      ]
     },
     "execution_count": 4,
     "metadata": {},
     "output_type": "execute_result"
    }
   ],
   "source": [
    "# For now, we ignore elections where one of these parties is not competing\n",
    "results = pd.read_json('Y_full.json')\n",
    "results = results.set_index(['departement', 'date']).sort_index()\n",
    "results.head()"
   ]
  },
  {
   "cell_type": "code",
   "execution_count": 5,
   "metadata": {},
   "outputs": [
    {
     "data": {
      "text/html": [
       "<div>\n",
       "<style scoped>\n",
       "    .dataframe tbody tr th:only-of-type {\n",
       "        vertical-align: middle;\n",
       "    }\n",
       "\n",
       "    .dataframe tbody tr th {\n",
       "        vertical-align: top;\n",
       "    }\n",
       "\n",
       "    .dataframe thead th {\n",
       "        text-align: right;\n",
       "    }\n",
       "</style>\n",
       "<table border=\"1\" class=\"dataframe\">\n",
       "  <thead>\n",
       "    <tr style=\"text-align: right;\">\n",
       "      <th></th>\n",
       "      <th></th>\n",
       "      <th>farleft</th>\n",
       "      <th>left</th>\n",
       "      <th>green</th>\n",
       "      <th>center</th>\n",
       "      <th>right</th>\n",
       "      <th>farright</th>\n",
       "      <th>other</th>\n",
       "    </tr>\n",
       "    <tr>\n",
       "      <th>departement</th>\n",
       "      <th>date</th>\n",
       "      <th></th>\n",
       "      <th></th>\n",
       "      <th></th>\n",
       "      <th></th>\n",
       "      <th></th>\n",
       "      <th></th>\n",
       "      <th></th>\n",
       "    </tr>\n",
       "  </thead>\n",
       "  <tbody>\n",
       "    <tr>\n",
       "      <th rowspan=\"5\" valign=\"top\">ain</th>\n",
       "      <th>dep1992</th>\n",
       "      <td>482</td>\n",
       "      <td>1389</td>\n",
       "      <td>741</td>\n",
       "      <td>2488</td>\n",
       "      <td>2064</td>\n",
       "      <td>1259</td>\n",
       "      <td>1577</td>\n",
       "    </tr>\n",
       "    <tr>\n",
       "      <th>dep1994</th>\n",
       "      <td>698</td>\n",
       "      <td>1216</td>\n",
       "      <td>548</td>\n",
       "      <td>2617</td>\n",
       "      <td>1476</td>\n",
       "      <td>1149</td>\n",
       "      <td>2296</td>\n",
       "    </tr>\n",
       "    <tr>\n",
       "      <th>dep1998</th>\n",
       "      <td>732</td>\n",
       "      <td>1161</td>\n",
       "      <td>267</td>\n",
       "      <td>2524</td>\n",
       "      <td>1473</td>\n",
       "      <td>1508</td>\n",
       "      <td>2335</td>\n",
       "    </tr>\n",
       "    <tr>\n",
       "      <th>dep2001</th>\n",
       "      <td>717</td>\n",
       "      <td>1221</td>\n",
       "      <td>531</td>\n",
       "      <td>240</td>\n",
       "      <td>1211</td>\n",
       "      <td>817</td>\n",
       "      <td>5263</td>\n",
       "    </tr>\n",
       "    <tr>\n",
       "      <th>dep2004</th>\n",
       "      <td>461</td>\n",
       "      <td>1084</td>\n",
       "      <td>315</td>\n",
       "      <td>171</td>\n",
       "      <td>2411</td>\n",
       "      <td>1484</td>\n",
       "      <td>4074</td>\n",
       "    </tr>\n",
       "  </tbody>\n",
       "</table>\n",
       "</div>"
      ],
      "text/plain": [
       "                     farleft  left  green  center  right  farright  other\n",
       "departement date                                                         \n",
       "ain         dep1992      482  1389    741    2488   2064      1259   1577\n",
       "            dep1994      698  1216    548    2617   1476      1149   2296\n",
       "            dep1998      732  1161    267    2524   1473      1508   2335\n",
       "            dep2001      717  1221    531     240   1211       817   5263\n",
       "            dep2004      461  1084    315     171   2411      1484   4074"
      ]
     },
     "execution_count": 5,
     "metadata": {},
     "output_type": "execute_result"
    }
   ],
   "source": [
    "y_full = (results.copy() * 10000).astype(int) # transform proportions to multinomial observations\n",
    "_, n_parties = y_full.shape\n",
    "y_full.head()"
   ]
  },
  {
   "cell_type": "code",
   "execution_count": 6,
   "metadata": {},
   "outputs": [],
   "source": [
    "# make sure there is no missing data here\n",
    "# national regressors: fixed by department but varying per election\n",
    "groupX = X_full.loc['nord', :].iloc[:, :n_regressors-1].values"
   ]
  },
  {
   "cell_type": "markdown",
   "metadata": {},
   "source": [
    "#### This model samples quite nicely"
   ]
  },
  {
   "cell_type": "code",
   "execution_count": 9,
   "metadata": {},
   "outputs": [],
   "source": [
    "with pm.Model() as hier_model:\n",
    "    \n",
    "    sigma_dpt_interp = pm.HalfNormal('sigma_dpt_interp', 100.)\n",
    "    sigma_fixed = pm.HalfNormal('sigma_fixed', 100.)\n",
    "    sigma_random = pm.HalfNormal('sigma_random', 100.)\n",
    "    \n",
    "    dpt_interp = pm.Normal('dpt_interp', 0., sigma_dpt_interp, shape=(n_dptmts, n_parties-1))\n",
    "    fixed_effect = pm.Normal('fixed_effect', 0., sigma_fixed, shape=(n_regressors-1, n_parties-1))\n",
    "    random_effect = pm.Normal('random_effect', 0., sigma_random, shape=n_parties-1)\n",
    "    \n",
    "    results_est = dpt_interp[dptmts_idx]\\\n",
    "                    + tt.dot(groupX, fixed_effect)[date_idx]\\\n",
    "                    + X_full['chomage'].values[:, None] * random_effect\n",
    "    results_est = tt.concatenate(tensor_list=[results_est, \n",
    "                                              tt.zeros((X_full.shape[0], 1))], \n",
    "                                 axis=1)\n",
    "    \n",
    "    probs = pm.Deterministic('probs', tt.nnet.softmax(results_est))\n",
    "    likelihood = pm.Multinomial('likelihood',\n",
    "                                n=y_full.sum(axis=1),\n",
    "                                p=probs,\n",
    "                                observed=y_full.values)\n",
    "    # might need to increase tunning\n",
    "    trace = pm.sample(1000, tune=2000, cores=4, random_seed=RANDOM_SEED)"
   ]
  },
  {
   "cell_type": "code",
   "execution_count": null,
   "metadata": {},
   "outputs": [],
   "source": [
    "hier_model.check_test_point()"
   ]
  },
  {
   "cell_type": "markdown",
   "metadata": {},
   "source": [
    "##### No divergences, good BFMI, good energy"
   ]
  },
  {
   "cell_type": "code",
   "execution_count": null,
   "metadata": {},
   "outputs": [],
   "source": [
    "print(\"BFMI (values smaller than 0.2 indicate poor sampling): \", np.round(pm.bfmi(trace), 3))"
   ]
  },
  {
   "cell_type": "code",
   "execution_count": null,
   "metadata": {},
   "outputs": [],
   "source": [
    "pm.energyplot(trace, figsize=(10,6));"
   ]
  },
  {
   "cell_type": "code",
   "execution_count": null,
   "metadata": {},
   "outputs": [],
   "source": [
    "pm.traceplot(trace, varnames=['sigma_dpt_interp', 'sigma_fixed', 'sigma_random', \n",
    "                              'random_effect', 'fixed_effect', 'dpt_interp', 'oos_probs'], \n",
    "             figsize=(14, 14));"
   ]
  },
  {
   "cell_type": "markdown",
   "metadata": {},
   "source": [
    "##### But the inference seems biased when looking at ppcs"
   ]
  },
  {
   "cell_type": "code",
   "execution_count": null,
   "metadata": {},
   "outputs": [],
   "source": [
    "sim_data = pm.sample_posterior_predictive(trace=trace, samples=2000, model=hier_model, random_seed=RANDOM_SEED)\n",
    "rdm_pt = np.random.randint(len(y_full) + 1)\n",
    "reals, simuls = y_full.iloc[rdm_pt].values, sim_data['likelihood'][:, rdm_pt, :].T"
   ]
  },
  {
   "cell_type": "code",
   "execution_count": null,
   "metadata": {},
   "outputs": [],
   "source": [
    "fig, axes = plt.subplots(4, 2, figsize=(12,16))\n",
    "axes_flat = axes.flatten()\n",
    "\n",
    "for ax, real, sim in zip(axes_flat, reals, simuls):\n",
    "    ax.hist(sim, bins=20)\n",
    "    ax.vlines(real, *ax.get_ylim(), colors='red', label='Real result')\n",
    "    ax.set_yticklabels([])\n",
    "    sns.despine(left=True)\n",
    "    ax.legend();\n",
    "\n",
    "plt.tight_layout();"
   ]
  },
  {
   "cell_type": "markdown",
   "metadata": {},
   "source": [
    "**Where does the bias come from?**\n",
    "- Too many regressors?\n",
    "- The softmax applies too strong a normalization? But how do you get rid of the softmax/multinomial likelihood in this case?\n",
    "- The data actually contain another cluster - the type of election ('dep', 'euro', 'pres', etc.). Would modeling it improve the model? But how can we implement that in PyMC?"
   ]
  },
  {
   "cell_type": "code",
   "execution_count": null,
   "metadata": {},
   "outputs": [],
   "source": []
  }
 ],
 "metadata": {
  "kernelspec": {
   "display_name": "fund",
   "language": "python",
   "name": "fund"
  },
  "language_info": {
   "codemirror_mode": {
    "name": "ipython",
    "version": 3
   },
   "file_extension": ".py",
   "mimetype": "text/x-python",
   "name": "python",
   "nbconvert_exporter": "python",
   "pygments_lexer": "ipython3",
   "version": "3.7.4"
  }
 },
 "nbformat": 4,
 "nbformat_minor": 4
}
